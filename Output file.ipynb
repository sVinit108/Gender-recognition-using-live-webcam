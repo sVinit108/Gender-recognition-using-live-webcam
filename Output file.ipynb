{
 "cells": [
  {
   "cell_type": "code",
   "execution_count": 7,
   "metadata": {},
   "outputs": [],
   "source": [
    "import os\n",
    "import cv2\n",
    "import glob\n",
    "import numpy as np\n",
    "import pandas as pd\n",
    "from PIL import Image, ImageOps\n",
    "from keras.preprocessing.image import load_img\n",
    "from keras.models import load_model\n",
    "\n",
    "#model1 = load_model('Customised_Model.hd5')\n",
    "model1 = load_model('CNN_Model.hd5')\n",
    "#model1 = load_model(\"gender_detection.model\")\n",
    "face_cascade = cv2.CascadeClassifier(cv2.data.haarcascades +'haarcascade_frontalface_default.xml')\n",
    "\n",
    "gender_dict = {0:'Male', 1:'Female'}\n",
    "\n",
    "def face_extractor(frame):\n",
    "    faces = face_cascade.detectMultiScale(frame, 1.3, 5)\n",
    "    for (x,y,w,h) in faces:\n",
    "        cv2.rectangle(frame,(x,y),(x+w,y+h),(0,255,255),2)\n",
    "        cropped_face = frame[y:y+h, x:x+w]\n",
    "        im = Image.fromarray(cropped_face)\n",
    "        im.save(r\"Images/1.jpg\")\n",
    "    return frame\n",
    "\n",
    "def dataframe_creat():\n",
    "    BASE_DIR = r'Images/'\n",
    "    image_paths = []\n",
    "    for filename in (os.listdir(BASE_DIR)):\n",
    "        image_path = os.path.join(BASE_DIR, filename)\n",
    "        image_paths.append(image_path)\n",
    "    df = pd.DataFrame()\n",
    "    df['image'] = image_paths\n",
    "    df.head()\n",
    "    return df\n",
    "\n",
    "def extract_features(images):\n",
    "    features = []\n",
    "    for image in (images):\n",
    "        img = load_img(image,color_mode = \"grayscale\")\n",
    "        img = img.resize((128, 128), Image.ANTIALIAS)\n",
    "        img = np.array(img)\n",
    "        features.append(img)\n",
    "    features = np.array(features)\n",
    "    features = features.reshape(len(features), 128, 128, 1)\n",
    "    return features\n",
    "\n",
    "def final_funct():\n",
    "    df = dataframe_creat()\n",
    "    X = extract_features(df['image'])\n",
    "    X = X/255.0\n",
    "    img_index = 0\n",
    "    pred = model1.predict(X[img_index].reshape(1,128, 128, 1))\n",
    "    pred_gender = gender_dict[round(pred[0][0][0])]\n",
    "    pred_age = round(pred[1][0][0])\n",
    "    return pred_gender,pred_age    "
   ]
  },
  {
   "cell_type": "code",
   "execution_count": 24,
   "metadata": {},
   "outputs": [],
   "source": [
    "cap=cv2.VideoCapture(0)\n",
    "\n",
    "while True:\n",
    "    _,frame=cap.read()\n",
    "    frames = face_extractor(frame)\n",
    "    pred_gender,pred_age = final_funct()\n",
    "    final_txt = pred_gender+' '+str(pred_age)\n",
    "    cv2.putText(frame,str(final_txt), (50, 50), cv2.FONT_HERSHEY_COMPLEX, 1, (0,255,0), 2)\n",
    "    cv2.imshow('Face Cropper',frames)\n",
    "\n",
    "    if (cv2.waitKey(1) & 0xFF == ord('q')):\n",
    "        break\n",
    "cap.release()\n",
    "cv2.destroyAllWindows()\n",
    "\n",
    "file = glob.glob(r'Images\\*.jpg')\n",
    "for filename in file:\n",
    "    os.unlink(filename)"
   ]
  },
  {
   "cell_type": "code",
   "execution_count": null,
   "metadata": {},
   "outputs": [],
   "source": []
  }
 ],
 "metadata": {
  "kernelspec": {
   "display_name": "Python 3.9.7 ('base')",
   "language": "python",
   "name": "python3"
  },
  "language_info": {
   "codemirror_mode": {
    "name": "ipython",
    "version": 3
   },
   "file_extension": ".py",
   "mimetype": "text/x-python",
   "name": "python",
   "nbconvert_exporter": "python",
   "pygments_lexer": "ipython3",
   "version": "3.9.7"
  },
  "orig_nbformat": 4,
  "vscode": {
   "interpreter": {
    "hash": "5f6247e46243fae38f756a3367accf9bc6ec279e28af7eb851faffe5203616a0"
   }
  }
 },
 "nbformat": 4,
 "nbformat_minor": 2
}
